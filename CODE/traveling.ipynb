{
 "cells": [
  {
   "cell_type": "code",
   "execution_count": 1,
   "metadata": {},
   "outputs": [],
   "source": [
    "df_activity = pd.read_csv(\"../DATA/activity_labeling.csv\", header=None, index_col=0)\n"
   ]
  },
  {
   "cell_type": "code",
   "execution_count": 2,
   "metadata": {},
   "outputs": [],
   "source": [
    "df_activity.columns=['city_name', 'tour_code', 'tour_name', 'target', 'keyword', 'type', 'type2']"
   ]
  },
  {
   "cell_type": "code",
   "execution_count": 3,
   "metadata": {},
   "outputs": [],
   "source": [
    "df_activity_2 = df_activity.reset_index()"
   ]
  },
  {
   "cell_type": "code",
   "execution_count": 4,
   "metadata": {},
   "outputs": [],
   "source": [
    "#df_activity_2"
   ]
  },
  {
   "cell_type": "code",
   "execution_count": 5,
   "metadata": {},
   "outputs": [],
   "source": [
    "df_activity_3 = df_activity_2.drop(0, axis=1)"
   ]
  },
  {
   "cell_type": "code",
   "execution_count": 6,
   "metadata": {},
   "outputs": [
    {
     "data": {
      "text/plain": [
       "array(['문화예술', '도시', '맛집', '가족', '셀피', '자연친화', '체험중시', '지식추구', '도전'],\n",
       "      dtype=object)"
      ]
     },
     "execution_count": 6,
     "metadata": {},
     "output_type": "execute_result"
    }
   ],
   "source": [
    "df_activity_3['type'].unique()"
   ]
  },
  {
   "cell_type": "code",
   "execution_count": 10,
   "metadata": {},
   "outputs": [
    {
     "data": {
      "text/html": [
       "<div>\n",
       "<style scoped>\n",
       "    .dataframe tbody tr th:only-of-type {\n",
       "        vertical-align: middle;\n",
       "    }\n",
       "\n",
       "    .dataframe tbody tr th {\n",
       "        vertical-align: top;\n",
       "    }\n",
       "\n",
       "    .dataframe thead th {\n",
       "        text-align: right;\n",
       "    }\n",
       "</style>\n",
       "<table border=\"1\" class=\"dataframe\">\n",
       "  <thead>\n",
       "    <tr style=\"text-align: right;\">\n",
       "      <th></th>\n",
       "      <th>city_name</th>\n",
       "      <th>tour_code</th>\n",
       "      <th>tour_name</th>\n",
       "      <th>target</th>\n",
       "      <th>keyword</th>\n",
       "      <th>type</th>\n",
       "      <th>type2</th>\n",
       "    </tr>\n",
       "  </thead>\n",
       "  <tbody>\n",
       "    <tr>\n",
       "      <th>0</th>\n",
       "      <td>뉴욕</td>\n",
       "      <td>9660</td>\n",
       "      <td>아트어드바이저와 함께 하는 아트 뉴욕-메트로폴리탄 미술관 투어</td>\n",
       "      <td>20대,혼자 가는 여행으로 구매가 많은 상품</td>\n",
       "      <td>#세계 #미술 #역사 #지식 #이해 #큐레이터 #아트어드바이저 #설명 #질의응답 #...</td>\n",
       "      <td>문화예술</td>\n",
       "      <td>0</td>\n",
       "    </tr>\n",
       "    <tr>\n",
       "      <th>1</th>\n",
       "      <td>뉴욕</td>\n",
       "      <td>5665</td>\n",
       "      <td>뉴욕 미술가 와 함께하는 미술다큐 1 \" 뉴욕의 미술관 \" 모마 또는 휘트니 뮤지엄</td>\n",
       "      <td>20대,혼자 가는 여행으로 구매가 많은 상품</td>\n",
       "      <td>#현대미술 #스토리 #미술 #역사 #전문가 #예술 #감성 #호퍼 #휘트니 #반고흐 ...</td>\n",
       "      <td>문화예술</td>\n",
       "      <td>0</td>\n",
       "    </tr>\n",
       "    <tr>\n",
       "      <th>2</th>\n",
       "      <td>뉴욕</td>\n",
       "      <td>2097</td>\n",
       "      <td>뉴욕 야경 투어</td>\n",
       "      <td>30대,혼자 가는 여행으로 구매가 많은 상품</td>\n",
       "      <td>#야경 #색감 #센스 #위치선정 #자동차 #드립 #배경음악 #음악 #유쾌 #시각 #...</td>\n",
       "      <td>도시</td>\n",
       "      <td>0</td>\n",
       "    </tr>\n",
       "    <tr>\n",
       "      <th>3</th>\n",
       "      <td>뉴욕</td>\n",
       "      <td>5833</td>\n",
       "      <td>덤보+야경투어 뉴요커처럼 즐기기</td>\n",
       "      <td>30대,혼자 가는 여행으로 구매가 많은 상품</td>\n",
       "      <td>#로컬 #라이브 #펍 #피자 #라운지바 #재즈바 #뉴요커 #도보 #술 #클럽 #스냅...</td>\n",
       "      <td>도시</td>\n",
       "      <td>0</td>\n",
       "    </tr>\n",
       "    <tr>\n",
       "      <th>4</th>\n",
       "      <td>뉴욕</td>\n",
       "      <td>6282</td>\n",
       "      <td>뉴욕 미술가와 함께하는 미술다큐 2 \" 뉴욕의 미술관 \" ( Met ) 메트로폴리탄 투어</td>\n",
       "      <td>30대,혼자 가는 여행으로 구매가 많은 상품</td>\n",
       "      <td>#미술 #역사 #실내 #행복 #신념 #사랑</td>\n",
       "      <td>문화예술</td>\n",
       "      <td>0</td>\n",
       "    </tr>\n",
       "    <tr>\n",
       "      <th>...</th>\n",
       "      <td>...</td>\n",
       "      <td>...</td>\n",
       "      <td>...</td>\n",
       "      <td>...</td>\n",
       "      <td>...</td>\n",
       "      <td>...</td>\n",
       "      <td>...</td>\n",
       "    </tr>\n",
       "    <tr>\n",
       "      <th>66</th>\n",
       "      <td>제주도</td>\n",
       "      <td>33378</td>\n",
       "      <td>딜라이트 제주스냅과 즐기는 인생사진 남기기 (여행하며 스냅사진남기기)</td>\n",
       "      <td>20대,혼자 가는 여행으로 구매가 많은 상품</td>\n",
       "      <td>#사진 #친구 #촬영</td>\n",
       "      <td>체험중시</td>\n",
       "      <td>0</td>\n",
       "    </tr>\n",
       "    <tr>\n",
       "      <th>67</th>\n",
       "      <td>제주도</td>\n",
       "      <td>3612</td>\n",
       "      <td>[차량 투어]제주도 서부의 아름다운 자연 경관에 몸과 마음의 힐링!</td>\n",
       "      <td>40대,부모님과 가는 여행으로 구매가 많은 상품</td>\n",
       "      <td>#사진 #친구 #촬영 #폭포 #바다 #박물관</td>\n",
       "      <td>자연친화</td>\n",
       "      <td>문화예술</td>\n",
       "    </tr>\n",
       "    <tr>\n",
       "      <th>68</th>\n",
       "      <td>제주도</td>\n",
       "      <td>63379</td>\n",
       "      <td>[인디고사진관] 제주 동부 보구섭지 6핵심코스 버스투어 + 종료후샌딩(스냅사진 제공...</td>\n",
       "      <td>20대,혼자 가는 여행으로 구매가 많은 상품</td>\n",
       "      <td>#친구 #체험 #추억 #사진 #힐링여행 #버스투어 #자유여행</td>\n",
       "      <td>체험중시</td>\n",
       "      <td>0</td>\n",
       "    </tr>\n",
       "    <tr>\n",
       "      <th>69</th>\n",
       "      <td>제주도</td>\n",
       "      <td>64709</td>\n",
       "      <td>[인디고사진관]제주 서부 '별아모해' 6핵심코스 버스투어+종료후샌딩(스냅 사진 제공...</td>\n",
       "      <td>20대,혼자 가는 여행으로 구매가 많은 상품</td>\n",
       "      <td>#사진 #관광 #숨은명소 #나홀로 #친구 #뚜벅이 #추억 #가이드 #일일투어 #도보...</td>\n",
       "      <td>체험중시</td>\n",
       "      <td>0</td>\n",
       "    </tr>\n",
       "    <tr>\n",
       "      <th>70</th>\n",
       "      <td>제주도</td>\n",
       "      <td>20284</td>\n",
       "      <td>[제주 원데이 버스투어] 서쪽의 여름(화/목/토) 추가 비용X, 제주 버스투어 홍스타투어</td>\n",
       "      <td>30대,친구들과 가는 여행으로 구매가 많은 상품</td>\n",
       "      <td>#로멘틱 # 투어 #풍경 #자연경관 #사진 #사진촬영 #추억 #엄마와함께 #부모님 ...</td>\n",
       "      <td>자연친화</td>\n",
       "      <td>가족</td>\n",
       "    </tr>\n",
       "  </tbody>\n",
       "</table>\n",
       "<p>71 rows × 7 columns</p>\n",
       "</div>"
      ],
      "text/plain": [
       "   city_name  tour_code                                          tour_name  \\\n",
       "0         뉴욕       9660                 아트어드바이저와 함께 하는 아트 뉴욕-메트로폴리탄 미술관 투어   \n",
       "1         뉴욕       5665     뉴욕 미술가 와 함께하는 미술다큐 1 \" 뉴욕의 미술관 \" 모마 또는 휘트니 뮤지엄   \n",
       "2         뉴욕       2097                                           뉴욕 야경 투어   \n",
       "3         뉴욕       5833                                  덤보+야경투어 뉴요커처럼 즐기기   \n",
       "4         뉴욕       6282  뉴욕 미술가와 함께하는 미술다큐 2 \" 뉴욕의 미술관 \" ( Met ) 메트로폴리탄 투어   \n",
       "..       ...        ...                                                ...   \n",
       "66       제주도      33378             딜라이트 제주스냅과 즐기는 인생사진 남기기 (여행하며 스냅사진남기기)   \n",
       "67       제주도       3612              [차량 투어]제주도 서부의 아름다운 자연 경관에 몸과 마음의 힐링!   \n",
       "68       제주도      63379  [인디고사진관] 제주 동부 보구섭지 6핵심코스 버스투어 + 종료후샌딩(스냅사진 제공...   \n",
       "69       제주도      64709  [인디고사진관]제주 서부 '별아모해' 6핵심코스 버스투어+종료후샌딩(스냅 사진 제공...   \n",
       "70       제주도      20284  [제주 원데이 버스투어] 서쪽의 여름(화/목/토) 추가 비용X, 제주 버스투어 홍스타투어   \n",
       "\n",
       "                        target  \\\n",
       "0     20대,혼자 가는 여행으로 구매가 많은 상품   \n",
       "1     20대,혼자 가는 여행으로 구매가 많은 상품   \n",
       "2     30대,혼자 가는 여행으로 구매가 많은 상품   \n",
       "3     30대,혼자 가는 여행으로 구매가 많은 상품   \n",
       "4     30대,혼자 가는 여행으로 구매가 많은 상품   \n",
       "..                         ...   \n",
       "66    20대,혼자 가는 여행으로 구매가 많은 상품   \n",
       "67  40대,부모님과 가는 여행으로 구매가 많은 상품   \n",
       "68    20대,혼자 가는 여행으로 구매가 많은 상품   \n",
       "69    20대,혼자 가는 여행으로 구매가 많은 상품   \n",
       "70  30대,친구들과 가는 여행으로 구매가 많은 상품   \n",
       "\n",
       "                                              keyword  type type2  \n",
       "0   #세계 #미술 #역사 #지식 #이해 #큐레이터 #아트어드바이저 #설명 #질의응답 #...  문화예술     0  \n",
       "1   #현대미술 #스토리 #미술 #역사 #전문가 #예술 #감성 #호퍼 #휘트니 #반고흐 ...  문화예술     0  \n",
       "2   #야경 #색감 #센스 #위치선정 #자동차 #드립 #배경음악 #음악 #유쾌 #시각 #...    도시     0  \n",
       "3   #로컬 #라이브 #펍 #피자 #라운지바 #재즈바 #뉴요커 #도보 #술 #클럽 #스냅...    도시     0  \n",
       "4                             #미술 #역사 #실내 #행복 #신념 #사랑  문화예술     0  \n",
       "..                                                ...   ...   ...  \n",
       "66                                        #사진 #친구 #촬영  체험중시     0  \n",
       "67                          #사진 #친구 #촬영 #폭포 #바다 #박물관   자연친화  문화예술  \n",
       "68                  #친구 #체험 #추억 #사진 #힐링여행 #버스투어 #자유여행  체험중시     0  \n",
       "69  #사진 #관광 #숨은명소 #나홀로 #친구 #뚜벅이 #추억 #가이드 #일일투어 #도보...  체험중시     0  \n",
       "70  #로멘틱 # 투어 #풍경 #자연경관 #사진 #사진촬영 #추억 #엄마와함께 #부모님 ...  자연친화    가족  \n",
       "\n",
       "[71 rows x 7 columns]"
      ]
     },
     "execution_count": 10,
     "metadata": {},
     "output_type": "execute_result"
    }
   ],
   "source": [
    "df_activity_3"
   ]
  },
  {
   "cell_type": "code",
   "execution_count": null,
   "metadata": {},
   "outputs": [],
   "source": [
    "df_activity_3.to_csv(\"../DATA/\")"
   ]
  },
  {
   "cell_type": "code",
   "execution_count": 7,
   "metadata": {},
   "outputs": [
    {
     "data": {
      "text/plain": [
       "8     #나홀로투어 #패션 #디자이너 #디자인 #스냅사진 #사진 #프사 #도보 #나홀로 #...\n",
       "31                                       사진 행복 SNS 유리공방\n",
       "34                                         과거 도시 사진 SNS\n",
       "Name: keyword, dtype: object"
      ]
     },
     "execution_count": 7,
     "metadata": {},
     "output_type": "execute_result"
    }
   ],
   "source": [
    "df_activity_3[df_activity_3['type'] == '셀피']['keyword']"
   ]
  },
  {
   "cell_type": "code",
   "execution_count": 8,
   "metadata": {},
   "outputs": [
    {
     "data": {
      "text/plain": [
       "15      #등반 #일출 #정상 #등산 #운동화 #하이킹 #다이아몬드헤드 #화산 #분화구\n",
       "17    #차량 #할레아칼라 #새벽 #일출 #국립공원 #매우추움 #두꺼운옷 #비쌈 #어르신\n",
       "Name: keyword, dtype: object"
      ]
     },
     "execution_count": 8,
     "metadata": {},
     "output_type": "execute_result"
    }
   ],
   "source": [
    "df_activity_3[df_activity_3['type'] == '도전']['keyword']"
   ]
  },
  {
   "cell_type": "code",
   "execution_count": 9,
   "metadata": {},
   "outputs": [
    {
     "data": {
      "text/plain": [
       "Series([], Name: keyword, dtype: object)"
      ]
     },
     "execution_count": 9,
     "metadata": {},
     "output_type": "execute_result"
    }
   ],
   "source": [
    "df_activity_3[df_activity_3['type'] == '체험중심']['keyword']"
   ]
  },
  {
   "cell_type": "code",
   "execution_count": 37,
   "metadata": {},
   "outputs": [
    {
     "data": {
      "text/plain": [
       "0     #세계 #미술 #역사 #지식 #이해 #큐레이터 #아트어드바이저 #설명 #질의응답 #...\n",
       "1     #현대미술 #스토리 #미술 #역사 #전문가 #예술 #감성 #호퍼 #휘트니 #반고흐 ...\n",
       "4                               #미술 #역사 #실내 #행복 #신념 #사랑\n",
       "18                              도보 역사 예술가 철학가 교회 뉴욕 SNS\n",
       "33                                       역사 그림 미술 성당 전쟁\n",
       "Name: keyword, dtype: object"
      ]
     },
     "execution_count": 37,
     "metadata": {},
     "output_type": "execute_result"
    }
   ],
   "source": [
    "df_activity_3[df_activity_3['type'] == '문화예술']['keyword']"
   ]
  },
  {
   "cell_type": "code",
   "execution_count": 42,
   "metadata": {},
   "outputs": [
    {
     "data": {
      "text/plain": [
       "2     #야경 #색감 #센스 #위치선정 #자동차 #드립 #배경음악 #음악 #유쾌 #시각 #...\n",
       "3     #로컬 #라이브 #펍 #피자 #라운지바 #재즈바 #뉴요커 #도보 #술 #클럽 #스냅...\n",
       "7                #맛집 #쇼핑 #카페 #패션 #소호 #나홀로 #사회학 #도보 #북카페\n",
       "11       #시내 #야경 #역사 #건축물 #차량 #노을 #도넛 #시티투어 #다운타운 #불꽃놀이\n",
       "12          #쇼핑 #파인애플 #아이스크림 #명소 #드라이브 #사진 #차량 #관광 #약쇼핑\n",
       "27                                         베니스 석양 야경 도시\n",
       "28                                                일몰 야경\n",
       "29                                                   야경\n",
       "37                 정겨운 소소한 생동감 골목길 아기자기 현지음식 노점 재래시장 도보\n",
       "38                                 생동감 근교 반나절 재래시장 수상시장\n",
       "55                            #호텔 #부모님 #역사 #박물관 #문화 #맛집\n",
       "56                            #야경 #호텔 #부모님 #사진 #도보#아날로그\n",
       "60                             #호텔 #쇼 #부모님 #카지노 #야경 #오락\n",
       "62                                   #야경 #사진 #호텔 #쇼 #맛집\n",
       "Name: keyword, dtype: object"
      ]
     },
     "execution_count": 42,
     "metadata": {},
     "output_type": "execute_result"
    }
   ],
   "source": [
    "df_activity_3[df_activity_3['type'] == '도시']['keyword']"
   ]
  },
  {
   "cell_type": "code",
   "execution_count": 43,
   "metadata": {},
   "outputs": [
    {
     "data": {
      "text/plain": [
       "5     #맛집 #자유의여신상 #페리 #자동차 #미드타운 #다운타운 #유명관광지 #간식 #커...\n",
       "21                                             포도 와인 경관\n",
       "25                                               와인 건축물\n",
       "Name: keyword, dtype: object"
      ]
     },
     "execution_count": 43,
     "metadata": {},
     "output_type": "execute_result"
    }
   ],
   "source": [
    "df_activity_3[df_activity_3['type'] == '맛집']['keyword']"
   ]
  },
  {
   "cell_type": "code",
   "execution_count": 38,
   "metadata": {},
   "outputs": [
    {
     "data": {
      "text/plain": [
       "9     #가족 #친구 #신혼여행 #백사장 #파도 #물개 #섬 #가격이 있음 #편안 #힐링 ...\n",
       "14       #공원 #도시락 #반찬 #포케 #사진 #카우아이 #섬 #피크닉 #자연 #바다 #해변\n",
       "16                      #아울렛 #마트 #인증샷 #드라이빙 #차량 #관광 #명소\n",
       "22                                    산 전쟁 역사 자연 안덱스 산맥\n",
       "23                                            스키 안덱스 산맥\n",
       "26                                             풍경 음료 해변\n",
       "32                                          명소 풍경 신혼 효도\n",
       "45    캐년 캠핑카 1박2일 남녀노소 럭셔리캠핑 풍경 바베큐파티 별 캠프파이어 광활한대자연...\n",
       "46                       캐년 자정출발 이지하이킹 지질박물관 햄버거 야경 은하수\n",
       "47            별장 햄버거 타코 베베큐 가족여행 커플여행 우정여행 프라이빗숙박 별 인생샷\n",
       "48          일몰감상 1박2일 헬기투어 햄버거 트레킹 별자리 은하수 캠핑카카라반 펜션 타코\n",
       "49                            가성비 삼겹살 캠핑 캠프파이어 트레킹 1박2일\n",
       "50                                          1박2일 캠핑카 여유\n",
       "51                                    2박3일 여유 헬리콥터투어 사막\n",
       "52                                        하루투어 새벽출발 후다닥\n",
       "53                                      하루투어 트레킹 헬리콥터투어\n",
       "63    #로멘틱 # 투어 #풍경 #자연경관 #사진 #추억 #엄마와함께 #부모님 #효도 #가...\n",
       "65       #뚜벅이 #픽업 #가이드 #관광 #사진 #부모님 #하루 #엄마 #명소 #자연 #도보\n",
       "67                            #사진 #친구 #촬영 #폭포 #바다 #박물관 \n",
       "70    #로멘틱 # 투어 #풍경 #자연경관 #사진 #사진촬영 #추억 #엄마와함께 #부모님 ...\n",
       "Name: keyword, dtype: object"
      ]
     },
     "execution_count": 38,
     "metadata": {},
     "output_type": "execute_result"
    }
   ],
   "source": [
    "df_activity_3[df_activity_3['type'] == '자연친화']['keyword']"
   ]
  },
  {
   "cell_type": "code",
   "execution_count": 39,
   "metadata": {},
   "outputs": [
    {
     "data": {
      "text/plain": [
       "6      #가족 #부모 #자녀 #친구 #랜드마크 #종합 #차량\n",
       "54    #가족 #부모님 #쇼 #케이블카 #물놀이 #체험 #맛집\n",
       "59         #사진 #부모님 #친구 #야경 #유적지 #역사\n",
       "Name: keyword, dtype: object"
      ]
     },
     "execution_count": 39,
     "metadata": {},
     "output_type": "execute_result"
    }
   ],
   "source": [
    "df_activity_3[df_activity_3['type'] == '가족']['keyword']"
   ]
  },
  {
   "cell_type": "code",
   "execution_count": 40,
   "metadata": {},
   "outputs": [
    {
     "data": {
      "text/plain": [
       "13    #역사 #가족 #시내 #호놀룰루 #일본 #조선 #비극적 와엉 #군주 #여왕 #식민지\n",
       "19                                 시티 현지음식 대성당 역사 경치\n",
       "20                                 프라이빗 풍경 철도 다리 트래킹\n",
       "30                                     책 역사 저작권 수상도시\n",
       "36        유네스코세계문화유산 고대왕국 반나절 선셋크루즈 옛도시 평온 여유 코끼리트래킹\n",
       "39                              그룹투어 일일투어 유적지 세계문화유산\n",
       "40              반나절 코끼리트래킹 재래시장 세계문화유산 수상시장 선셋크루즈 야경\n",
       "41                 왕궁 사원 여유 하루관광 수상시장 불심 화려한 시골 그룹투어\n",
       "42                                왕궁 사원 강 반나절투어 수상가옥\n",
       "43                                     왕궁 사원 오전반나절 강\n",
       "44                       야경 선셋보트 오후투어 저녁투어 유적지 낭만 여유\n",
       "57                                #역사 #문화유산 #나홀로 #문화\n",
       "58                             #부모님 #박물관 #역사 #사진 #자녀\n",
       "61                       #투어 #가이드 #부모님 #역사 #맛집 #가성비 \n",
       "Name: keyword, dtype: object"
      ]
     },
     "execution_count": 40,
     "metadata": {},
     "output_type": "execute_result"
    }
   ],
   "source": [
    "df_activity_3[df_activity_3['type'] == '지식추구']['keyword']"
   ]
  },
  {
   "cell_type": "code",
   "execution_count": null,
   "metadata": {},
   "outputs": [],
   "source": [
    "df_activity_3[df_activity_3['type'] == '']['keyword']"
   ]
  },
  {
   "cell_type": "code",
   "execution_count": 24,
   "metadata": {},
   "outputs": [
    {
     "ename": "NameError",
     "evalue": "name 'x' is not defined",
     "output_type": "error",
     "traceback": [
      "\u001b[1;31m---------------------------------------------------------------------------\u001b[0m",
      "\u001b[1;31mNameError\u001b[0m                                 Traceback (most recent call last)",
      "\u001b[1;32m<ipython-input-24-00cdde32d04b>\u001b[0m in \u001b[0;36m<module>\u001b[1;34m\u001b[0m\n\u001b[1;32m----> 1\u001b[1;33m \u001b[0mdf_activity_3\u001b[0m\u001b[1;33m.\u001b[0m\u001b[0mgroupby\u001b[0m\u001b[1;33m(\u001b[0m\u001b[1;34m'type'\u001b[0m\u001b[1;33m)\u001b[0m\u001b[1;33m.\u001b[0m\u001b[0magg\u001b[0m\u001b[1;33m(\u001b[0m\u001b[1;33m{\u001b[0m\u001b[1;34m'keyword'\u001b[0m\u001b[1;33m:\u001b[0m\u001b[1;34m' '\u001b[0m\u001b[1;33m.\u001b[0m\u001b[0mjoin\u001b[0m\u001b[1;33m(\u001b[0m\u001b[0mx\u001b[0m\u001b[1;33m)\u001b[0m \u001b[1;32min\u001b[0m \u001b[1;34m'keyword'\u001b[0m\u001b[1;33m}\u001b[0m\u001b[1;33m)\u001b[0m\u001b[1;33m\u001b[0m\u001b[1;33m\u001b[0m\u001b[0m\n\u001b[0m",
      "\u001b[1;31mNameError\u001b[0m: name 'x' is not defined"
     ]
    }
   ],
   "source": [
    "df_activity_3.groupby('type').agg({'keyword':' '.join(x) in 'keyword'})"
   ]
  },
  {
   "cell_type": "code",
   "execution_count": null,
   "metadata": {},
   "outputs": [],
   "source": []
  }
 ],
 "metadata": {
  "kernelspec": {
   "display_name": "Python 3",
   "language": "python",
   "name": "python3"
  },
  "language_info": {
   "codemirror_mode": {
    "name": "ipython",
    "version": 3
   },
   "file_extension": ".py",
   "mimetype": "text/x-python",
   "name": "python",
   "nbconvert_exporter": "python",
   "pygments_lexer": "ipython3",
   "version": "3.7.6"
  }
 },
 "nbformat": 4,
 "nbformat_minor": 4
}
